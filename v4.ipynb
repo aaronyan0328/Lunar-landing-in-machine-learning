{
 "cells": [
  {
   "cell_type": "markdown",
   "metadata": {
    "deletable": false,
    "editable": false,
    "nbgrader": {
     "checksum": "2926c390f05ffdd6b94b3d79b5c0b494",
     "grade": false,
     "grade_id": "cell1",
     "locked": true,
     "schema_version": 1,
     "solution": false
    }
   },
   "source": [
    "# Assignment 2 - Implement your agent\n",
    "\n",
    "Welcome to Course 4, Programming Assignment 2! We have learned about reinforcement learning algorithms for prediction and control in previous courses and extended those algorithms to large state spaces using function approximation. One example of this was in assignment 2 of course 3 where we implemented semi-gradient TD for prediction and used a neural network as the function approximator. In this notebook, we will build a reinforcement learning agent for control, again using a neural network for function approximation. This combination of neural network function approximators and reinforcement learning algorithms, often referred to as Deep RL, is an active area of research and has led to many impressive results (e. g., AlphaGo: https://deepmind.com/research/case-studies/alphago-the-story-so-far).\n",
    "\n",
    "**In this assignment, you will:**\n",
    "  1. Extend the neural network code from assignment 2 of course 3 to output action-values instead of state-values.\n",
    "  2. Write up the Adam algorithm for neural network optimization.\n",
    "  3. Understand experience replay buffers.\n",
    "  4. Implement Softmax action-selection.\n",
    "  5. Build an Expected Sarsa agent by putting all the pieces together.\n",
    "  6. Solve Lunar Lander with your agent."
   ]
  },
  {
   "cell_type": "markdown",
   "metadata": {
    "deletable": false,
    "editable": false,
    "nbgrader": {
     "checksum": "d144c4fd87d2731e3fc9234172decb79",
     "grade": false,
     "grade_id": "cell2",
     "locked": true,
     "schema_version": 1,
     "solution": false
    }
   },
   "source": [
    "## Packages\n",
    "- [numpy](www.numpy.org) : Fundamental package for scientific computing with Python.\n",
    "- [matplotlib](http://matplotlib.org) : Library for plotting graphs in Python.\n",
    "- [RL-Glue](http://www.jmlr.org/papers/v10/tanner09a.html), BaseEnvironment, BaseAgent : Library and abstract classes to inherit from  for reinforcement learning experiments.\n",
    "- [LunarLanderEnvironment](https://gym.openai.com/envs/LunarLander-v2/) : An RLGlue environment that wraps a LundarLander environment implementation from OpenAI Gym.\n",
    "- [collections.deque](https://docs.python.org/3/library/collections.html#collections.deque): a double-ended queue implementation. We use deque to implement the experience replay buffer.\n",
    "- [copy.deepcopy](https://docs.python.org/3/library/copy.html#copy.deepcopy): As objects are not passed by value in python, we often need to make copies of mutable objects. copy.deepcopy allows us to make a new object with the same contents as another object. (Take a look at this link if you are interested to learn more: https://robertheaton.com/2014/02/09/pythons-pass-by-object-reference-as-explained-by-philip-k-dick/)\n",
    "- [tqdm](https://github.com/tqdm/tqdm) : A package to display progress bar when running experiments\n",
    "- [os](https://docs.python.org/3/library/os.html): Package used to interface with the operating system. Here we use it for creating a results folder when it does not exist.\n",
    "- [shutil](https://docs.python.org/3/library/shutil.html): Package used to operate on files and folders. Here we use it for creating a zip file of the results folder.\n",
    "- plot_script: Used for plotting learning curves using matplotlib."
   ]
  },
  {
   "cell_type": "code",
   "execution_count": 1,
   "metadata": {
    "deletable": false,
    "editable": false,
    "nbgrader": {
     "checksum": "91bddfd590ad8df8bdfb828acc9c8f03",
     "grade": false,
     "grade_id": "cell3",
     "locked": true,
     "schema_version": 1,
     "solution": false
    }
   },
   "outputs": [],
   "source": [
    "# Do not modify this cell!\n",
    "\n",
    "# Import necessary libraries\n",
    "# DO NOT IMPORT OTHER LIBRARIES - This will break the autograder.\n",
    "import numpy as np\n",
    "import matplotlib.pyplot as plt\n",
    "%matplotlib inline\n",
    "\n",
    "from rl_glue import RLGlue\n",
    "from environment import BaseEnvironment\n",
    "\n",
    "from lunar_lander import LunarLanderEnvironment\n",
    "\n",
    "from agent import BaseAgent\n",
    "\n",
    "from collections import deque\n",
    "\n",
    "from copy import deepcopy\n",
    "\n",
    "from tqdm import tqdm\n",
    "\n",
    "import os \n",
    "\n",
    "import shutil\n",
    "\n",
    "from plot_script import plot_result"
   ]
  },
  {
   "cell_type": "markdown",
   "metadata": {
    "deletable": false,
    "editable": false,
    "nbgrader": {
     "checksum": "3528df9f07a2c2a27c11a47d94849931",
     "grade": false,
     "grade_id": "cell4",
     "locked": true,
     "schema_version": 1,
     "solution": false
    }
   },
   "source": [
    "## Section 1: Action-Value Network\n",
    "This section includes the function approximator that we use in our agent, a neural network. In Course 3 Assignment 2, we used a neural network as the function approximator for a policy evaluation problem. In this assignment, we will use a neural network for approximating the action-value function in a control problem. The main difference between approximating a state-value function and an action-value function using a neural network is that in the former the output layer only includes one unit whereas in the latter the output layer includes as many units as the number of actions. \n",
    "\n",
    "In the cell below, you will specify the architecture of the action-value neural network. More specifically, you will specify `self.layer_size` in the `__init__()` function. \n",
    "\n",
    "We have already provided `get_action_values()` and `get_TD_update()` methods. The former computes the action-value function by doing a forward pass and the latter computes the gradient of the action-value function with respect to the weights times the TD error. These `get_action_values()` and `get_TD_update()` methods are similar to the `get_value()` and `get_gradient()` methods that you implemented in Course 3 Assignment 2. The main difference is that in this notebook, they are designed to be applied to batches of states instead of one state. You will later use these functions for implementing the agent."
   ]
  },
  {
   "cell_type": "code",
   "execution_count": 2,
   "metadata": {
    "deletable": false,
    "nbgrader": {
     "checksum": "a1b403c9d88eed97b99580a77670f8b9",
     "grade": false,
     "grade_id": "cell5",
     "locked": false,
     "schema_version": 1,
     "solution": true
    }
   },
   "outputs": [],
   "source": [
    "# Work Required: Yes. Fill in the code for layer_sizes in __init__ (~1 Line). \n",
    "# Also go through the rest of the code to ensure your understanding is correct.\n",
    "class ActionValueNetwork:\n",
    "    # Work Required: Yes. Fill in the layer_sizes member variable (~1 Line).\n",
    "    def __init__(self, network_config):\n",
    "        self.state_dim = network_config.get(\"state_dim\")\n",
    "        self.num_hidden_units = network_config.get(\"num_hidden_units\")\n",
    "        self.num_actions = network_config.get(\"num_actions\")\n",
    "        \n",
    "        self.rand_generator = np.random.RandomState(network_config.get(\"seed\"))\n",
    "        \n",
    "        # Specify self.layer_size which shows the number of nodes in each layer\n",
    "        ### START CODE HERE (~1 Line)\n",
    "        self.layer_sizes = np.array([self.state_dim, self.num_hidden_units, self.num_actions])\n",
    "        ### END CODE HERE\n",
    "        \n",
    "        # Initialize the weights of the neural network\n",
    "        # self.weights is an array of dictionaries with each dictionary corresponding to \n",
    "        # the weights from one layer to the next. Each dictionary includes W and b\n",
    "        self.weights = [dict() for i in range(0, len(self.layer_sizes) - 1)]\n",
    "        for i in range(0, len(self.layer_sizes) - 1):\n",
    "            self.weights[i]['W'] = self.init_saxe(self.layer_sizes[i], self.layer_sizes[i + 1])\n",
    "            self.weights[i]['b'] = np.zeros((1, self.layer_sizes[i + 1]))\n",
    "    \n",
    "    # Work Required: No.\n",
    "    def get_action_values(self, s):\n",
    "        \"\"\"\n",
    "        Args:\n",
    "            s (Numpy array): The state.\n",
    "        Returns:\n",
    "            The action-values (Numpy array) calculated using the network's weights.\n",
    "        \"\"\"\n",
    "        \n",
    "        W0, b0 = self.weights[0]['W'], self.weights[0]['b']\n",
    "        psi = np.dot(s, W0) + b0\n",
    "        x = np.maximum(psi, 0)\n",
    "        \n",
    "        W1, b1 = self.weights[1]['W'], self.weights[1]['b']\n",
    "        q_vals = np.dot(x, W1) + b1\n",
    "\n",
    "        return q_vals\n",
    "    \n",
    "    # Work Required: No.\n",
    "    def get_TD_update(self, s, delta_mat):\n",
    "        \"\"\"\n",
    "        Args:\n",
    "            s (Numpy array): The state.\n",
    "            delta_mat (Numpy array): A 2D array of shape (batch_size, num_actions). Each row of delta_mat  \n",
    "            correspond to one state in the batch. Each row has only one non-zero element \n",
    "            which is the TD-error corresponding to the action taken.\n",
    "        Returns:\n",
    "            The TD update (Array of dictionaries with gradient times TD errors) for the network's weights\n",
    "        \"\"\"\n",
    "\n",
    "        W0, b0 = self.weights[0]['W'], self.weights[0]['b']\n",
    "        W1, b1 = self.weights[1]['W'], self.weights[1]['b']\n",
    "        \n",
    "        psi = np.dot(s, W0) + b0\n",
    "        x = np.maximum(psi, 0)\n",
    "        dx = (psi > 0).astype(float)\n",
    "\n",
    "        # td_update has the same structure as self.weights, that is an array of dictionaries.\n",
    "        # td_update[0][\"W\"], td_update[0][\"b\"], td_update[1][\"W\"], and td_update[1][\"b\"] have the same shape as \n",
    "        # self.weights[0][\"W\"], self.weights[0][\"b\"], self.weights[1][\"W\"], and self.weights[1][\"b\"] respectively\n",
    "        td_update = [dict() for i in range(len(self.weights))]\n",
    "         \n",
    "        v = delta_mat\n",
    "        td_update[1]['W'] = np.dot(x.T, v) * 1. / s.shape[0]\n",
    "        td_update[1]['b'] = np.sum(v, axis=0, keepdims=True) * 1. / s.shape[0]\n",
    "        \n",
    "        v = np.dot(v, W1.T) * dx\n",
    "        td_update[0]['W'] = np.dot(s.T, v) * 1. / s.shape[0]\n",
    "        td_update[0]['b'] = np.sum(v, axis=0, keepdims=True) * 1. / s.shape[0]\n",
    "                \n",
    "        return td_update\n",
    "    \n",
    "    # Work Required: No. You may wish to read the relevant paper for more information on this weight initialization\n",
    "    # (Exact solutions to the nonlinear dynamics of learning in deep linear neural networks by Saxe, A et al., 2013)\n",
    "    def init_saxe(self, rows, cols):\n",
    "        \"\"\"\n",
    "        Args:\n",
    "            rows (int): number of input units for layer.\n",
    "            cols (int): number of output units for layer.\n",
    "        Returns:\n",
    "            NumPy Array consisting of weights for the layer based on the initialization in Saxe et al.\n",
    "        \"\"\"\n",
    "        tensor = self.rand_generator.normal(0, 1, (rows, cols))\n",
    "        if rows < cols:\n",
    "            tensor = tensor.T\n",
    "        tensor, r = np.linalg.qr(tensor)\n",
    "        d = np.diag(r, 0)\n",
    "        ph = np.sign(d)\n",
    "        tensor *= ph\n",
    "\n",
    "        if rows < cols:\n",
    "            tensor = tensor.T\n",
    "        return tensor\n",
    "    \n",
    "    # Work Required: No.\n",
    "    def get_weights(self):\n",
    "        \"\"\"\n",
    "        Returns: \n",
    "            A copy of the current weights of this network.\n",
    "        \"\"\"\n",
    "        return deepcopy(self.weights)\n",
    "    \n",
    "    # Work Required: No.\n",
    "    def set_weights(self, weights):\n",
    "        \"\"\"\n",
    "        Args: \n",
    "            weights (list of dictionaries): Consists of weights that this network will set as its own weights.\n",
    "        \"\"\"\n",
    "        self.weights = deepcopy(weights)"
   ]
  },
  {
   "cell_type": "markdown",
   "metadata": {
    "deletable": false,
    "editable": false,
    "nbgrader": {
     "checksum": "61b88349f16b3681a89d0a0b5f7becd6",
     "grade": false,
     "grade_id": "cell6",
     "locked": true,
     "schema_version": 1,
     "solution": false
    }
   },
   "source": [
    "Run the cell below to test your implementation of the `__init__()` function for ActionValueNetwork:"
   ]
  },
  {
   "cell_type": "code",
   "execution_count": 3,
   "metadata": {
    "deletable": false,
    "editable": false,
    "nbgrader": {
     "checksum": "3013ec1163f3cf98071953f82f527596",
     "grade": true,
     "grade_id": "action_value_network_init",
     "locked": true,
     "points": 5,
     "schema_version": 1,
     "solution": false
    }
   },
   "outputs": [
    {
     "name": "stdout",
     "output_type": "stream",
     "text": [
      "layer_sizes: [ 5 20  3]\n",
      "Passed the asserts! (Note: These are however limited in scope, additional testing is encouraged.)\n"
     ]
    }
   ],
   "source": [
    "# Do not modify this cell!\n",
    "\n",
    "## Test Code for ActionValueNetwork __init__() ## \n",
    "\n",
    "# NOTE: The test below is limited in scope. Additional tests are used in the autograder, so it is recommended \n",
    "# to test your implementations more carefully for correctness.\n",
    "\n",
    "network_config = {\n",
    "    \"state_dim\": 5,\n",
    "    \"num_hidden_units\": 20,\n",
    "    \"num_actions\": 3\n",
    "}\n",
    "\n",
    "test_network = ActionValueNetwork(network_config)\n",
    "print(\"layer_sizes:\", test_network.layer_sizes)\n",
    "assert(np.allclose(test_network.layer_sizes, np.array([5, 20, 3])))\n",
    "\n",
    "print(\"Passed the asserts! (Note: These are however limited in scope, additional testing is encouraged.)\")"
   ]
  },
  {
   "cell_type": "markdown",
   "metadata": {
    "deletable": false,
    "editable": false,
    "nbgrader": {
     "checksum": "d01bed3174f24e2faacde8268f2dd3af",
     "grade": false,
     "grade_id": "cell8",
     "locked": true,
     "schema_version": 1,
     "solution": false
    }
   },
   "source": [
    "**Expected output:**\n",
    "\n",
    "    layer_sizes: [ 5 20  3]"
   ]
  },
  {
   "cell_type": "markdown",
   "metadata": {
    "deletable": false,
    "editable": false,
    "nbgrader": {
     "checksum": "5b1d3111fcd72e10d6fae596c1982b11",
     "grade": false,
     "grade_id": "cell9",
     "locked": true,
     "schema_version": 1,
     "solution": false
    }
   },
   "source": [
    "## Section 2: Adam Optimizer\n",
    "\n",
    "In this assignment, you will use the Adam algorithm for updating the weights of your action-value network. As you may remember from Course 3 Assignment 2, the Adam algorithm is a more advanced variant of stochastic gradient descent (SGD). The Adam algorithm improves the SGD update with two concepts: adaptive vector stepsizes and momentum. It keeps running estimates of the mean and second moment of the updates, denoted by $\\mathbf{m}$ and $\\mathbf{v}$ respectively:\n",
    "$$\\mathbf{m_t} = \\beta_m \\mathbf{m_{t-1}} + (1 - \\beta_m)g_t \\\\\n",
    "\\mathbf{v_t} = \\beta_v \\mathbf{v_{t-1}} + (1 - \\beta_v)g^2_t\n",
    "$$\n",
    "\n",
    "Here, $\\beta_m$ and $\\beta_v$ are fixed parameters controlling the linear combinations above and $g_t$ is the update at time $t$ (generally the gradients, but here the TD error times the gradients).\n",
    "\n",
    "Given that $\\mathbf{m}$ and $\\mathbf{v}$ are initialized to zero, they are biased toward zero. To get unbiased estimates of the mean and second moment, Adam defines $\\mathbf{\\hat{m}}$ and $\\mathbf{\\hat{v}}$ as:\n",
    "$$ \\mathbf{\\hat{m}_t} = \\frac{\\mathbf{m_t}}{1 - \\beta_m^t} \\\\\n",
    "\\mathbf{\\hat{v}_t} = \\frac{\\mathbf{v_t}}{1 - \\beta_v^t}\n",
    "$$\n",
    "\n",
    "The weights are then updated as follows:\n",
    "$$ \\mathbf{w_t} = \\mathbf{w_{t-1}} + \\frac{\\alpha}{\\sqrt{\\mathbf{\\hat{v}_t}}+\\epsilon} \\mathbf{\\hat{m}_t}\n",
    "$$\n",
    "\n",
    "Here, $\\alpha$ is the step size parameter and $\\epsilon$ is another small parameter to keep the denominator from being zero.\n",
    "\n",
    "In the cell below, you will implement the `__init__()` and `update_weights()` methods for the Adam algorithm. In `__init__()`, you will initialize `self.m` and `self.v`. In `update_weights()`, you will compute new weights given the input weights and an update $g$ (here `td_errors_times_gradients`) according to the equations above."
   ]
  },
  {
   "cell_type": "code",
   "execution_count": 4,
   "metadata": {
    "deletable": false,
    "nbgrader": {
     "checksum": "ee9327772c74f669390c783554ad0d8a",
     "grade": false,
     "grade_id": "cell10",
     "locked": false,
     "schema_version": 1,
     "solution": true
    }
   },
   "outputs": [],
   "source": [
    "### Work Required: Yes. Fill in code in __init__ and update_weights (~9-11 Lines).\n",
    "class Adam():\n",
    "    # Work Required: Yes. Fill in the initialization for self.m and self.v (~4 Lines).\n",
    "    def __init__(self, layer_sizes, \n",
    "                 optimizer_info):\n",
    "        self.layer_sizes = layer_sizes\n",
    "\n",
    "        # Specify Adam algorithm's hyper parameters\n",
    "        self.step_size = optimizer_info.get(\"step_size\")\n",
    "        self.beta_m = optimizer_info.get(\"beta_m\")\n",
    "        self.beta_v = optimizer_info.get(\"beta_v\")\n",
    "        self.epsilon = optimizer_info.get(\"epsilon\")\n",
    "        \n",
    "        # Initialize Adam algorithm's m and v\n",
    "        self.m = [dict() for i in range(1, len(self.layer_sizes))]\n",
    "        self.v = [dict() for i in range(1, len(self.layer_sizes))]\n",
    "        \n",
    "        for i in range(0, len(self.layer_sizes) - 1):\n",
    "            ### START CODE HERE (~4 Lines)\n",
    "            # Hint: The initialization for m and v should look very much like the initializations of the weights\n",
    "            # except for the fact that initialization here is to zeroes (see description above.)\n",
    "            self.m[i][\"W\"] = np.zeros((self.layer_sizes[i], self.layer_sizes[i+1]))\n",
    "            self.m[i][\"b\"] = np.zeros((1, self.layer_sizes[i+1]))\n",
    "            self.v[i][\"W\"] = np.zeros((self.layer_sizes[i], self.layer_sizes[i+1]))\n",
    "            self.v[i][\"b\"] = np.zeros((1, self.layer_sizes[i+1]))\n",
    "            ### END CODE HERE\n",
    "            \n",
    "        # Notice that to calculate m_hat and v_hat, we use powers of beta_m and beta_v to \n",
    "        # the time step t. We can calculate these powers using an incremental product. At initialization then, \n",
    "        # beta_m_product and beta_v_product should be ...? (Note that timesteps start at 1 and if we were to \n",
    "        # start from 0, the denominator would be 0.)\n",
    "        self.beta_m_product = self.beta_m\n",
    "        self.beta_v_product = self.beta_v\n",
    "    \n",
    "    # Work Required: Yes. Fill in the weight updates (~5-7 lines).\n",
    "    def update_weights(self, weights, td_errors_times_gradients):\n",
    "        \"\"\"\n",
    "        Args:\n",
    "            weights (Array of dictionaries): The weights of the neural network.\n",
    "            td_errors_times_gradients (Array of dictionaries): The gradient of the \n",
    "            action-values with respect to the network's weights times the TD-error\n",
    "        Returns:\n",
    "            The updated weights (Array of dictionaries).\n",
    "        \"\"\"\n",
    "        for i in range(len(weights)):\n",
    "            for param in weights[i].keys():\n",
    "                ### START CODE HERE (~5-7 Lines)\n",
    "                # Hint: Follow the equations above. First, you should update m and v and then compute \n",
    "                # m_hat and v_hat. Finally, compute how much the weights should be incremented by.\n",
    "                self.m[i][param] = self.beta_m * self.m[i][param] + (1 - self.beta_m) * td_errors_times_gradients[i][param]\n",
    "                self.v[i][param] = self.beta_v * self.v[i][param] + (1 - self.beta_v) * (td_errors_times_gradients[i][param] * td_errors_times_gradients[i][param])\n",
    "                m_hat = self.m[i][param] / (1 - self.beta_m_product)\n",
    "                v_hat = self.v[i][param] / (1 - self.beta_v_product)\n",
    "                weight_update = self.step_size * m_hat / (np.sqrt(v_hat) + self.epsilon)\n",
    "                ### END CODE HERE\n",
    "                \n",
    "                weights[i][param] = weights[i][param] + weight_update\n",
    "        # Notice that to calculate m_hat and v_hat, we use powers of beta_m and beta_v to \n",
    "        ### update self.beta_m_product and self.beta_v_product\n",
    "        self.beta_m_product *= self.beta_m\n",
    "        self.beta_v_product *= self.beta_v\n",
    "        \n",
    "        return weights"
   ]
  },
  {
   "cell_type": "markdown",
   "metadata": {
    "deletable": false,
    "editable": false,
    "nbgrader": {
     "checksum": "3e71e0d2337c3a571caddde38eed8b8e",
     "grade": false,
     "grade_id": "cell11",
     "locked": true,
     "schema_version": 1,
     "solution": false
    }
   },
   "source": [
    "Run the following code to test your implementation of the `__init__()` function:"
   ]
  },
  {
   "cell_type": "code",
   "execution_count": 5,
   "metadata": {
    "deletable": false,
    "editable": false,
    "nbgrader": {
     "checksum": "67ae433f3eae1bc2ca9ad83a6ae852d4",
     "grade": true,
     "grade_id": "adam_init",
     "locked": true,
     "points": 5,
     "schema_version": 1,
     "solution": false
    }
   },
   "outputs": [
    {
     "name": "stdout",
     "output_type": "stream",
     "text": [
      "m[0][\"W\"] shape: (5, 2)\n",
      "m[0][\"b\"] shape: (1, 2)\n",
      "m[1][\"W\"] shape: (2, 3)\n",
      "m[1][\"b\"] shape: (1, 3) \n",
      "\n",
      "v[0][\"W\"] shape: (5, 2)\n",
      "v[0][\"b\"] shape: (1, 2)\n",
      "v[1][\"W\"] shape: (2, 3)\n",
      "v[1][\"b\"] shape: (1, 3) \n",
      "\n",
      "Passed the asserts! (Note: These are however limited in scope, additional testing is encouraged.)\n"
     ]
    }
   ],
   "source": [
    "# Do not modify this cell!\n",
    "\n",
    "## Test Code for Adam __init__() ##\n",
    "\n",
    "# NOTE: The test below is limited in scope. Additional tests are used in the autograder, so it is recommended \n",
    "# to test your implementations more carefully for correctness.\n",
    "\n",
    "network_config = {\"state_dim\": 5,\n",
    "                  \"num_hidden_units\": 2,\n",
    "                  \"num_actions\": 3\n",
    "                 }\n",
    "\n",
    "optimizer_info = {\"step_size\": 0.1,\n",
    "                  \"beta_m\": 0.99,\n",
    "                  \"beta_v\": 0.999,\n",
    "                  \"epsilon\": 0.0001\n",
    "                 }\n",
    "\n",
    "network = ActionValueNetwork(network_config)\n",
    "test_adam = Adam(network.layer_sizes, optimizer_info)\n",
    "\n",
    "print(\"m[0][\\\"W\\\"] shape: {}\".format(test_adam.m[0][\"W\"].shape))\n",
    "print(\"m[0][\\\"b\\\"] shape: {}\".format(test_adam.m[0][\"b\"].shape))\n",
    "print(\"m[1][\\\"W\\\"] shape: {}\".format(test_adam.m[1][\"W\"].shape))\n",
    "print(\"m[1][\\\"b\\\"] shape: {}\".format(test_adam.m[1][\"b\"].shape), \"\\n\")\n",
    "\n",
    "assert(np.allclose(test_adam.m[0][\"W\"].shape, np.array([5, 2])))\n",
    "assert(np.allclose(test_adam.m[0][\"b\"].shape, np.array([1, 2])))\n",
    "assert(np.allclose(test_adam.m[1][\"W\"].shape, np.array([2, 3])))\n",
    "assert(np.allclose(test_adam.m[1][\"b\"].shape, np.array([1, 3])))\n",
    "\n",
    "print(\"v[0][\\\"W\\\"] shape: {}\".format(test_adam.v[0][\"W\"].shape))\n",
    "print(\"v[0][\\\"b\\\"] shape: {}\".format(test_adam.v[0][\"b\"].shape))\n",
    "print(\"v[1][\\\"W\\\"] shape: {}\".format(test_adam.v[1][\"W\"].shape))\n",
    "print(\"v[1][\\\"b\\\"] shape: {}\".format(test_adam.v[1][\"b\"].shape), \"\\n\")\n",
    "\n",
    "assert(np.allclose(test_adam.v[0][\"W\"].shape, np.array([5, 2])))\n",
    "assert(np.allclose(test_adam.v[0][\"b\"].shape, np.array([1, 2])))\n",
    "assert(np.allclose(test_adam.v[1][\"W\"].shape, np.array([2, 3])))\n",
    "assert(np.allclose(test_adam.v[1][\"b\"].shape, np.array([1, 3])))\n",
    "\n",
    "assert(np.all(test_adam.m[0][\"W\"]==0))\n",
    "assert(np.all(test_adam.m[0][\"b\"]==0))\n",
    "assert(np.all(test_adam.m[1][\"W\"]==0))\n",
    "assert(np.all(test_adam.m[1][\"b\"]==0))\n",
    "\n",
    "assert(np.all(test_adam.v[0][\"W\"]==0))\n",
    "assert(np.all(test_adam.v[0][\"b\"]==0))\n",
    "assert(np.all(test_adam.v[1][\"W\"]==0))\n",
    "assert(np.all(test_adam.v[1][\"b\"]==0))\n",
    "\n",
    "print(\"Passed the asserts! (Note: These are however limited in scope, additional testing is encouraged.)\")"
   ]
  },
  {
   "cell_type": "markdown",
   "metadata": {
    "deletable": false,
    "editable": false,
    "nbgrader": {
     "checksum": "85dd186066f2dd85643cdc1fa6969a9d",
     "grade": false,
     "grade_id": "cell13",
     "locked": true,
     "schema_version": 1,
     "solution": false
    }
   },
   "source": [
    "**Expected output:**\n",
    "\n",
    "    m[0][\"W\"] shape: (5, 2)\n",
    "    m[0][\"b\"] shape: (1, 2)\n",
    "    m[1][\"W\"] shape: (2, 3)\n",
    "    m[1][\"b\"] shape: (1, 3) \n",
    "\n",
    "    v[0][\"W\"] shape: (5, 2)\n",
    "    v[0][\"b\"] shape: (1, 2)\n",
    "    v[1][\"W\"] shape: (2, 3)\n",
    "    v[1][\"b\"] shape: (1, 3) "
   ]
  },
  {
   "cell_type": "markdown",
   "metadata": {
    "deletable": false,
    "editable": false,
    "nbgrader": {
     "checksum": "959fb7067515ac663cc0b3a6e35ed588",
     "grade": false,
     "grade_id": "cell14",
     "locked": true,
     "schema_version": 1,
     "solution": false
    }
   },
   "source": [
    "Run the following code to test your implementation of the `update_weights()` function:"
   ]
  },
  {
   "cell_type": "code",
   "execution_count": 6,
   "metadata": {
    "deletable": false,
    "editable": false,
    "nbgrader": {
     "checksum": "a8b8c11daf0d42887f9ed68d6b50cf58",
     "grade": true,
     "grade_id": "adam_update_weights",
     "locked": true,
     "points": 10,
     "schema_version": 1,
     "solution": false
    }
   },
   "outputs": [
    {
     "name": "stdout",
     "output_type": "stream",
     "text": [
      "updated_weights[0][\"W\"]\n",
      " [[-1.03112528  2.08618453]\n",
      " [-0.15531623  0.02412129]\n",
      " [-0.76656476 -0.65405898]\n",
      " [-0.92569612 -0.24916335]\n",
      " [-0.92180119  0.72137957]] \n",
      "\n",
      "updated_weights[0][\"b\"]\n",
      " [[-0.44392532 -0.69588495]] \n",
      "\n",
      "updated_weights[1][\"W\"]\n",
      " [[ 0.13962892  0.48820826  0.41311548]\n",
      " [ 0.3958054  -0.20738072 -0.47172585]] \n",
      "\n",
      "updated_weights[1][\"b\"]\n",
      " [[-0.48917533 -0.61934122 -1.48771198]] \n",
      "\n",
      "Passed the asserts! (Note: These are however limited in scope, additional testing is encouraged.)\n"
     ]
    }
   ],
   "source": [
    "# Do not modify this cell!\n",
    "\n",
    "## Test Code for Adam update_weights() ##\n",
    "\n",
    "network_config = {\"state_dim\": 5,\n",
    "                  \"num_hidden_units\": 2,\n",
    "                  \"num_actions\": 3\n",
    "                 }\n",
    "\n",
    "optimizer_info = {\"step_size\": 0.1,\n",
    "                  \"beta_m\": 0.99,\n",
    "                  \"beta_v\": 0.999,\n",
    "                  \"epsilon\": 0.0001\n",
    "                 }\n",
    "\n",
    "network = ActionValueNetwork(network_config)\n",
    "test_adam = Adam(network.layer_sizes, optimizer_info)\n",
    "\n",
    "rand_generator = np.random.RandomState(0)\n",
    "\n",
    "# Initialize m and v\n",
    "test_adam.m[0][\"W\"] = rand_generator.normal(0, 1, (5, 2))\n",
    "test_adam.m[0][\"b\"] = rand_generator.normal(0, 1, (1, 2))\n",
    "test_adam.m[1][\"W\"] = rand_generator.normal(0, 1, (2, 3))\n",
    "test_adam.m[1][\"b\"] = rand_generator.normal(0, 1, (1, 3))\n",
    "\n",
    "test_adam.v[0][\"W\"] = np.abs(rand_generator.normal(0, 1, (5, 2)))\n",
    "test_adam.v[0][\"b\"] = np.abs(rand_generator.normal(0, 1, (1, 2)))\n",
    "test_adam.v[1][\"W\"] = np.abs(rand_generator.normal(0, 1, (2, 3)))\n",
    "test_adam.v[1][\"b\"] = np.abs(rand_generator.normal(0, 1, (1, 3)))\n",
    "\n",
    "# Specify weights\n",
    "weights = [dict() for i in range(1, len(test_adam.layer_sizes))]\n",
    "weights[0][\"W\"] = rand_generator.normal(0, 1, (5, 2))\n",
    "weights[0][\"b\"] = rand_generator.normal(0, 1, (1, 2))\n",
    "weights[1][\"W\"] = rand_generator.normal(0, 1, (2, 3))\n",
    "weights[1][\"b\"] = rand_generator.normal(0, 1, (1, 3))\n",
    "\n",
    "# Specify g\n",
    "g = [dict() for i in range(1, len(test_adam.layer_sizes))]\n",
    "g[0][\"W\"] = rand_generator.normal(0, 1, (5, 2))\n",
    "g[0][\"b\"] = rand_generator.normal(0, 1, (1, 2))\n",
    "g[1][\"W\"] = rand_generator.normal(0, 1, (2, 3))\n",
    "g[1][\"b\"] = rand_generator.normal(0, 1, (1, 3))\n",
    "\n",
    "# Update weights\n",
    "updated_weights = test_adam.update_weights(weights, g)\n",
    "\n",
    "# updated weights asserts\n",
    "updated_weights_answer = np.load(\"asserts/update_weights.npz\")\n",
    "\n",
    "print(\"updated_weights[0][\\\"W\\\"]\\n\", updated_weights[0][\"W\"], \"\\n\")\n",
    "print(\"updated_weights[0][\\\"b\\\"]\\n\", updated_weights[0][\"b\"], \"\\n\")\n",
    "print(\"updated_weights[1][\\\"W\\\"]\\n\", updated_weights[1][\"W\"], \"\\n\")\n",
    "print(\"updated_weights[1][\\\"b\\\"]\\n\", updated_weights[1][\"b\"], \"\\n\")\n",
    "\n",
    "assert(np.allclose(updated_weights[0][\"W\"], updated_weights_answer[\"W0\"]))\n",
    "assert(np.allclose(updated_weights[0][\"b\"], updated_weights_answer[\"b0\"]))\n",
    "assert(np.allclose(updated_weights[1][\"W\"], updated_weights_answer[\"W1\"]))\n",
    "assert(np.allclose(updated_weights[1][\"b\"], updated_weights_answer[\"b1\"]))\n",
    "\n",
    "print(\"Passed the asserts! (Note: These are however limited in scope, additional testing is encouraged.)\")"
   ]
  },
  {
   "cell_type": "markdown",
   "metadata": {
    "deletable": false,
    "editable": false,
    "nbgrader": {
     "checksum": "cd4a53197e8ff77bd6851160ba4967e8",
     "grade": false,
     "grade_id": "cell16",
     "locked": true,
     "schema_version": 1,
     "solution": false
    }
   },
   "source": [
    "**Expected output:**\n",
    "\n",
    "    updated_weights[0][\"W\"]\n",
    "     [[-1.03112528  2.08618453]\n",
    "     [-0.15531623  0.02412129]\n",
    "     [-0.76656476 -0.65405898]\n",
    "     [-0.92569612 -0.24916335]\n",
    "     [-0.92180119  0.72137957]] \n",
    "\n",
    "    updated_weights[0][\"b\"]\n",
    "     [[-0.44392532 -0.69588495]] \n",
    "\n",
    "    updated_weights[1][\"W\"]\n",
    "     [[ 0.13962892  0.48820826  0.41311548]\n",
    "     [ 0.3958054  -0.20738072 -0.47172585]] \n",
    "\n",
    "    updated_weights[1][\"b\"]\n",
    "     [[-0.48917533 -0.61934122 -1.48771198]] "
   ]
  },
  {
   "cell_type": "markdown",
   "metadata": {
    "deletable": false,
    "editable": false,
    "nbgrader": {
     "checksum": "1f0f3e5d39449a6b242db88e6b03e066",
     "grade": false,
     "grade_id": "cell17",
     "locked": true,
     "schema_version": 1,
     "solution": false
    }
   },
   "source": [
    "## Section 3: Experience Replay Buffers\n",
    "\n",
    "In Course 3, you implemented agents that update value functions once for each sample. We can use a more efficient approach for updating value functions. You have seen an example of an efficient approach in Course 2 when implementing Dyna. The idea behind Dyna is to learn a model using sampled experience, obtain simulated experience from the model, and improve the value function using the simulated experience.\n",
    "\n",
    "Experience replay is a simple method that can get some of the advantages of Dyna by saving a buffer of experience and using the data stored in the buffer as a model. This view of prior data as a model works because the data represents actual transitions from the underlying MDP. Furthermore, as a side note, this kind of model that is not learned and simply a collection of experience can be called non-parametric as it can be ever-growing as opposed to a parametric model where the transitions are learned to be represented with a fixed set of parameters or weights.\n",
    "\n",
    "We have provided the implementation of the experience replay buffer in the cell below. ReplayBuffer includes two main functions: `append()` and `sample()`. `append()` adds an experience transition to the buffer as an array that includes the state, action, reward, terminal flag (indicating termination of the episode), and next_state. `sample()` gets a batch of experiences from the buffer with size `minibatch_size`.\n",
    "\n",
    "You will use the `append()` and `sample()` functions when implementing the agent."
   ]
  },
  {
   "cell_type": "code",
   "execution_count": 7,
   "metadata": {
    "deletable": false,
    "editable": false,
    "nbgrader": {
     "checksum": "002f731f1fd67e1d88ba22a40c852094",
     "grade": false,
     "grade_id": "cell18",
     "locked": true,
     "schema_version": 1,
     "solution": false
    }
   },
   "outputs": [],
   "source": [
    "# Do not modify this cell! \n",
    "\n",
    "# Work Required: No. However, do go through the code to ensure your understanding is correct.\n",
    "\n",
    "class ReplayBuffer:\n",
    "    def __init__(self, size, minibatch_size, seed):\n",
    "        \"\"\"\n",
    "        Args:\n",
    "            size (integer): The size of the replay buffer.              \n",
    "            minibatch_size (integer): The sample size.\n",
    "            seed (integer): The seed for the random number generator. \n",
    "        \"\"\"\n",
    "        self.buffer = []\n",
    "        self.minibatch_size = minibatch_size\n",
    "        self.rand_generator = np.random.RandomState(seed)\n",
    "        self.max_size = size\n",
    "\n",
    "    def append(self, state, action, reward, terminal, next_state):\n",
    "        \"\"\"\n",
    "        Args:\n",
    "            state (Numpy array): The state.              \n",
    "            action (integer): The action.\n",
    "            reward (float): The reward.\n",
    "            terminal (integer): 1 if the next state is a terminal state and 0 otherwise.\n",
    "            next_state (Numpy array): The next state.           \n",
    "        \"\"\"\n",
    "        if len(self.buffer) == self.max_size:\n",
    "            del self.buffer[0]\n",
    "        self.buffer.append([state, action, reward, terminal, next_state])\n",
    "\n",
    "    def sample(self):\n",
    "        \"\"\"\n",
    "        Returns:\n",
    "            A list of transition tuples including state, action, reward, terinal, and next_state\n",
    "        \"\"\"\n",
    "        idxs = self.rand_generator.choice(np.arange(len(self.buffer)), size=self.minibatch_size)\n",
    "        return [self.buffer[idx] for idx in idxs]\n",
    "\n",
    "    def size(self):\n",
    "        return len(self.buffer)"
   ]
  },
  {
   "cell_type": "markdown",
   "metadata": {
    "deletable": false,
    "editable": false,
    "nbgrader": {
     "checksum": "3065016279c96b7d6929dc042c2aa5d1",
     "grade": false,
     "grade_id": "cell19",
     "locked": true,
     "schema_version": 1,
     "solution": false
    }
   },
   "source": [
    "## Section 4: Softmax Policy\n",
    "\n",
    "In this assignment, you will use a softmax policy. One advantage of a softmax policy is that it explores according to the action-values, meaning that an action with a moderate value has a higher chance of getting selected compared to an action with a lower value. Contrast this with an $\\epsilon$-greedy policy which does not consider the individual action values when choosing an exploratory action in a state and instead chooses randomly when doing so.\n",
    "\n",
    "The probability of selecting each action according to the softmax policy is shown below:\n",
    "$$Pr{(A_t=a | S_t=s)} \\hspace{0.1cm} \\dot{=} \\hspace{0.1cm} \\frac{e^{Q(s, a)/\\tau}}{\\sum_{b \\in A}e^{Q(s, b)/\\tau}}$$\n",
    "where $\\tau$ is the temperature parameter which controls how much the agent focuses on the highest valued actions. The smaller the temperature, the more the agent selects the greedy action. Conversely, when the temperature is high, the agent selects among actions more uniformly random.\n",
    "\n",
    "Given that a softmax policy exponentiates action values, if those values are large, exponentiating them could get very large. To implement the softmax policy in a numerically stable way, we often subtract the maximum action-value from the action-values. If we do so, the probability of selecting each action looks as follows:\n",
    "\n",
    "$$Pr{(A_t=a | S_t=s)} \\hspace{0.1cm} \\dot{=} \\hspace{0.1cm} \\frac{e^{Q(s, a)/\\tau - max_{c}Q(s, c)/\\tau}}{\\sum_{b \\in A}e^{Q(s, b)/\\tau - max_{c}Q(s, c)/\\tau}}$$\n",
    "\n",
    "In the cell below, you will implement the `softmax()` function. In order to do so, you could break the above computation into smaller steps:\n",
    "- compute the preference, $H(a)$, for taking each action by dividing the action-values by the temperature parameter $\\tau$,\n",
    "- subtract the maximum preference across the actions from the preferences to avoid overflow, and,\n",
    "- compute the probability of taking each action."
   ]
  },
  {
   "cell_type": "code",
   "execution_count": 8,
   "metadata": {
    "deletable": false,
    "nbgrader": {
     "checksum": "803fce7d0e89806ae876f723fec8c2bd",
     "grade": false,
     "grade_id": "cell20",
     "locked": false,
     "schema_version": 1,
     "solution": true
    }
   },
   "outputs": [],
   "source": [
    "def softmax(action_values, tau=1.0):\n",
    "    \"\"\"\n",
    "    Args:\n",
    "        action_values (Numpy array): A 2D array of shape (batch_size, num_actions). \n",
    "                       The action-values computed by an action-value network.              \n",
    "        tau (float): The temperature parameter scalar.\n",
    "    Returns:\n",
    "        A 2D array of shape (batch_size, num_actions). Where each column is a probability distribution over\n",
    "        the actions representing the policy.\n",
    "    \"\"\"\n",
    "    ### START CODE HERE (~2 Lines)\n",
    "    # Compute the preferences by dividing the action-values by the temperature parameter tau\n",
    "    preferences = action_values/tau\n",
    "    # Compute the maximum preference across the actions\n",
    "    max_preference = preferences.max(1)\n",
    "    ### END CODE HERE\n",
    "    \n",
    "    \n",
    "    # Reshape max_preference array which has shape [Batch,] to [Batch, 1]. This allows NumPy broadcasting \n",
    "    # when subtracting the maximum preference from the preference of each action.\n",
    "    reshaped_max_preference = max_preference.reshape((-1, 1))\n",
    "    \n",
    "    ### START CODE HERE (~2 Lines)\n",
    "    # Compute the numerator, i.e., the exponential of the preference - the max preference.\n",
    "    exp_preferences = np.exp(preferences - reshaped_max_preference)\n",
    "    # Compute the denominator, i.e., the sum over the numerator along the actions axis.\n",
    "    sum_of_exp_preferences = np.sum(exp_preferences,axis = 1)\n",
    "    ### END CODE HERE\n",
    "    \n",
    "    \n",
    "    # Reshape sum_of_exp_preferences array which has shape [Batch,] to [Batch, 1] to  allow for NumPy broadcasting \n",
    "    # when dividing the numerator by the denominator.\n",
    "    reshaped_sum_of_exp_preferences = sum_of_exp_preferences.reshape((-1, 1))\n",
    "    \n",
    "    ### START CODE HERE (~1 Lines)\n",
    "    # Compute the action probabilities according to the equation in the previous cell.\n",
    "    action_probs = exp_preferences/reshaped_sum_of_exp_preferences\n",
    "    ### END CODE HERE\n",
    "    \n",
    "    \n",
    "    # squeeze() removes any singleton dimensions. It is used here because this function is used in the \n",
    "    # agent policy when selecting an action (for which the batch dimension is 1.) As np.random.choice is used in \n",
    "    # the agent policy and it expects 1D arrays, we need to remove this singleton batch dimension.\n",
    "    action_probs = action_probs.squeeze()\n",
    "    return action_probs"
   ]
  },
  {
   "cell_type": "markdown",
   "metadata": {
    "deletable": false,
    "editable": false,
    "nbgrader": {
     "checksum": "78e00022f5e617732b6527f3523724e0",
     "grade": false,
     "grade_id": "cell21",
     "locked": true,
     "schema_version": 1,
     "solution": false
    }
   },
   "source": [
    "Run the cell below to test your implementation of the `softmax()` function:"
   ]
  },
  {
   "cell_type": "code",
   "execution_count": 9,
   "metadata": {
    "deletable": false,
    "editable": false,
    "nbgrader": {
     "checksum": "272bb4b5fc169dac0d62e299c67130d4",
     "grade": true,
     "grade_id": "softmax",
     "locked": true,
     "points": 10,
     "schema_version": 1,
     "solution": false
    }
   },
   "outputs": [
    {
     "name": "stdout",
     "output_type": "stream",
     "text": [
      "action_probs [[0.25849645 0.01689625 0.05374514 0.67086216]\n",
      " [0.84699852 0.00286345 0.13520063 0.01493741]]\n",
      "Passed the asserts! (Note: These are however limited in scope, additional testing is encouraged.)\n"
     ]
    }
   ],
   "source": [
    "# Do not modify this cell!\n",
    "\n",
    "## Test Code for softmax() ##\n",
    "\n",
    "# NOTE: The test below is limited in scope. Additional tests are used in the autograder, so it is recommended \n",
    "# to test your implementations more carefully for correctness.\n",
    "\n",
    "rand_generator = np.random.RandomState(0)\n",
    "action_values = rand_generator.normal(0, 1, (2, 4))\n",
    "tau = 0.5\n",
    "\n",
    "action_probs = softmax(action_values, tau)\n",
    "print(\"action_probs\", action_probs)\n",
    "\n",
    "assert(np.allclose(action_probs, np.array([\n",
    "    [0.25849645, 0.01689625, 0.05374514, 0.67086216],\n",
    "    [0.84699852, 0.00286345, 0.13520063, 0.01493741]\n",
    "])))\n",
    "\n",
    "print(\"Passed the asserts! (Note: These are however limited in scope, additional testing is encouraged.)\")"
   ]
  },
  {
   "cell_type": "markdown",
   "metadata": {
    "deletable": false,
    "editable": false,
    "nbgrader": {
     "checksum": "a551ed093fa021ec1e222fb06539a63f",
     "grade": false,
     "grade_id": "cell23",
     "locked": true,
     "schema_version": 1,
     "solution": false
    }
   },
   "source": [
    "**Expected output:**\n",
    "\n",
    "    action_probs [[0.25849645 0.01689625 0.05374514 0.67086216]\n",
    "     [0.84699852 0.00286345 0.13520063 0.01493741]]"
   ]
  },
  {
   "cell_type": "markdown",
   "metadata": {
    "deletable": false,
    "editable": false,
    "nbgrader": {
     "checksum": "e66eb8fa7dda54905f0b5a45aea2fc88",
     "grade": false,
     "grade_id": "cell24",
     "locked": true,
     "schema_version": 1,
     "solution": false
    }
   },
   "source": [
    "## Section 5: Putting the pieces together\n",
    "\n",
    "In this section, you will combine components from the previous sections to write up an RL-Glue Agent. The main component that you will implement is the action-value network updates with experience sampled from the experience replay buffer.\n",
    "\n",
    "At time $t$, we have an action-value function represented as a neural network, say $Q_t$. We want to update our action-value function and get a new one we can use at the next timestep. We will get this $Q_{t+1}$ using multiple replay steps that each result in an intermediate action-value function $Q_{t+1}^{i}$ where $i$ indexes which replay step we are at.\n",
    "\n",
    "In each replay step, we sample a batch of experiences from the replay buffer and compute a minibatch Expected-SARSA update. Across these N replay steps, we will use the current \"un-updated\" action-value network at time $t$, $Q_t$, for computing the action-values of the next-states. This contrasts using the most recent action-values from the last replay step $Q_{t+1}^{i}$. We make this choice to have targets that are stable across replay steps. Here is the pseudocode for performing the updates:\n",
    "\n",
    "$$\n",
    "\\begin{align}\n",
    "& Q_t \\leftarrow \\text{action-value network at timestep t (current action-value network)}\\\\\n",
    "& \\text{Initialize } Q_{t+1}^1 \\leftarrow Q_t\\\\\n",
    "& \\text{For } i \\text{ in } [1, ..., N] \\text{ (i.e. N} \\text{  replay steps)}:\\\\\n",
    "& \\hspace{1cm} s, a, r, t, s'\n",
    "\\leftarrow \\text{Sample batch of experiences from experience replay buffer} \\\\\n",
    "& \\hspace{1cm} \\text{Do Expected Sarsa update with } Q_t: Q_{t+1}^{i+1}(s, a) \\leftarrow Q_{t+1}^{i}(s, a) + \\alpha \\cdot \\left[r + \\gamma \\left(\\sum_{b} \\pi(b | s') Q_t(s', b)\\right) - Q_{t+1}^{i}(s, a)\\right]\\\\\n",
    "& \\hspace{1.5cm} \\text{ making sure to add the } \\gamma \\left(\\sum_{b} \\pi(b | s') Q_t(s', b)\\right) \\text{ for non-terminal transitions only.} \\\\\n",
    "& \\text{After N replay steps, we set } Q_{t+1}^{N} \\text{ as } Q_{t+1} \\text{ and have a new } Q_{t+1} \\text{for time step } t + 1 \\text{ that we will fix in the next set of updates. }\n",
    "\\end{align}\n",
    "$$\n",
    "\n",
    "As you can see in the pseudocode, after sampling a batch of experiences, we do many computations. The basic idea however is that we are looking to compute a form of a TD error. In order to so, we can take the following steps:\n",
    "- compute the action-values for the next states using the action-value network $Q_{t}$,\n",
    "- compute the policy $\\pi(b | s')$ induced by the action-values $Q_{t}$ (using the softmax function you implemented before),\n",
    "- compute the Expected sarsa targets $r + \\gamma \\left(\\sum_{b} \\pi(b | s') Q_t(s', b)\\right)$,\n",
    "- compute the action-values for the current states using the latest $Q_{t + 1}$, and,\n",
    "- compute the TD-errors with the Expected Sarsa targets.\n",
    " \n",
    "For the third step above, you can start by computing $\\pi(b | s') Q_t(s', b)$ followed by summation to get $\\hat{v}_\\pi(s') = \\left(\\sum_{b} \\pi(b | s') Q_t(s', b)\\right)$. $\\hat{v}_\\pi(s')$ is an estimate of the value of the next state. Note for terminal next states, $\\hat{v}_\\pi(s') = 0$. Finally, we add the rewards to the discount times $\\hat{v}_\\pi(s')$.\n",
    "\n",
    "You will implement these steps in the `get_td_error()` function below which given a batch of experiences (including states, next_states, actions, rewards, terminals), fixed action-value network (current_q), and action-value network (network), computes the TD error in the form of a 1D array of size batch_size."
   ]
  },
  {
   "cell_type": "code",
   "execution_count": 10,
   "metadata": {
    "deletable": false,
    "nbgrader": {
     "checksum": "fa81be61b7f42965b94d4943e2f9ad13",
     "grade": false,
     "grade_id": "cell25",
     "locked": false,
     "schema_version": 1,
     "solution": true
    }
   },
   "outputs": [],
   "source": [
    "### Work Required: Yes. Fill in code in get_td_error (~9 Lines).\n",
    "def get_td_error(states, next_states, actions, rewards, discount, terminals, network, current_q, tau):\n",
    "    \"\"\"\n",
    "    Args:\n",
    "        states (Numpy array): The batch of states with the shape (batch_size, state_dim).\n",
    "        next_states (Numpy array): The batch of next states with the shape (batch_size, state_dim).\n",
    "        actions (Numpy array): The batch of actions with the shape (batch_size,).\n",
    "        rewards (Numpy array): The batch of rewards with the shape (batch_size,).\n",
    "        discount (float): The discount factor.\n",
    "        terminals (Numpy array): The batch of terminals with the shape (batch_size,).\n",
    "        network (ActionValueNetwork): The latest state of the network that is getting replay updates.\n",
    "        current_q (ActionValueNetwork): The fixed network used for computing the targets, \n",
    "                                        and particularly, the action-values at the next-states.\n",
    "    Returns:\n",
    "        The TD errors (Numpy array) for actions taken, of shape (batch_size,)\n",
    "    \"\"\"\n",
    "    \n",
    "    # Note: Here network is the latest state of the network that is getting replay updates. In other words, \n",
    "    # the network represents Q_{t+1}^{i} whereas current_q represents Q_t, the fixed network used for computing the \n",
    "    # targets, and particularly, the action-values at the next-states.\n",
    "    \n",
    "    # Compute action values at next states using current_q network\n",
    "    # Note that q_next_mat is a 2D array of shape (batch_size, num_actions)\n",
    "    \n",
    "    ### START CODE HERE (~1 Line)\n",
    "    q_next_mat = current_q.get_action_values(next_states)\n",
    "    ### END CODE HERE\n",
    "    \n",
    "    # Compute policy at next state by passing the action-values in q_next_mat to softmax()\n",
    "    # Note that probs_mat is a 2D array of shape (batch_size, num_actions)\n",
    "    \n",
    "    ### START CODE HERE (~1 Line)\n",
    "    probs_mat = softmax(q_next_mat,tau)\n",
    "    ### END CODE HERE\n",
    "    \n",
    "    # Compute the estimate of the next state value, v_next_vec.\n",
    "    # Hint: sum the action-values for the next_states weighted by the policy, probs_mat. Then, multiply by\n",
    "    # (1 - terminals) to make sure v_next_vec is zero for terminal next states.\n",
    "    # Note that v_next_vec is a 1D array of shape (batch_size,)\n",
    "    \n",
    "    ### START CODE HERE (~3 Lines)\n",
    "#     v_next_vec = np.zeros(len(actions))\n",
    "#     for i in range(len(actions)):\n",
    "#         v_next_vec[i] = np.dot(q_next_mat[i],probs_mat[i])\n",
    "#     v_next_vec = v_next_vec * (1 - terminals)\n",
    "    v_next_vec = np.sum(q_next_mat * probs_mat, axis=1) * (1-terminals)\n",
    "    ### END CODE HERE\n",
    "    \n",
    "    # Compute Expected Sarsa target\n",
    "    # Note that target_vec is a 1D array of shape (batch_size,)\n",
    "    \n",
    "    ### START CODE HERE (~1 Line)\n",
    "    target_vec = rewards + discount * v_next_vec\n",
    "    ### END CODE HERE\n",
    "    \n",
    "    # Compute action values at the current states for all actions using network\n",
    "    # Note that q_mat is a 2D array of shape (batch_size, num_actions)\n",
    "    \n",
    "    ### START CODE HERE (~1 Line)\n",
    "    q_mat = network.get_action_values(states)\n",
    "    ### END CODE HERE\n",
    "    \n",
    "    # Batch Indices is an array from 0 to the batch size - 1. \n",
    "    batch_indices = np.arange(q_mat.shape[0])\n",
    "\n",
    "    # Compute q_vec by selecting q(s, a) from q_mat for taken actions\n",
    "    # Use batch_indices as the index for the first dimension of q_mat\n",
    "    # Note that q_vec is a 1D array of shape (batch_size)\n",
    "    \n",
    "    ### START CODE HERE (~1 Line)\n",
    "    q_vec = q_mat[batch_indices, actions]\n",
    "    \n",
    "    ### END CODE HERE\n",
    "    \n",
    "    # Compute TD errors for actions taken\n",
    "    # Note that delta_vec is a 1D array of shape (batch_size)\n",
    "    \n",
    "    ### START CODE HERE (~1 Line)\n",
    "    delta_vec = target_vec - q_vec\n",
    "    ### END CODE HERE\n",
    "    \n",
    "    return delta_vec"
   ]
  },
  {
   "cell_type": "markdown",
   "metadata": {
    "deletable": false,
    "editable": false,
    "nbgrader": {
     "checksum": "7efa3ae7896324abe10eff83fa20c3a1",
     "grade": false,
     "grade_id": "cell26",
     "locked": true,
     "schema_version": 1,
     "solution": false
    }
   },
   "source": [
    "Run the following code to test your implementation of the `get_td_error()` function:"
   ]
  },
  {
   "cell_type": "code",
   "execution_count": 11,
   "metadata": {
    "deletable": false,
    "editable": false,
    "nbgrader": {
     "checksum": "de85b0e5614c209337a78881142b960c",
     "grade": true,
     "grade_id": "get_td_error",
     "locked": true,
     "points": 20,
     "schema_version": 1,
     "solution": false
    }
   },
   "outputs": [
    {
     "name": "stdout",
     "output_type": "stream",
     "text": [
      "Passed the asserts! (Note: These are however limited in scope, additional testing is encouraged.)\n"
     ]
    }
   ],
   "source": [
    "# Do not modify this cell!\n",
    "\n",
    "## Test Code for get_td_error() ##\n",
    "\n",
    "# NOTE: The test below is limited in scope. Additional tests are used in the autograder, so it is recommended \n",
    "# to test your implementations more carefully for correctness.\n",
    "\n",
    "data = np.load(\"asserts/get_td_error_1.npz\", allow_pickle=True)\n",
    "\n",
    "states = data[\"states\"]\n",
    "next_states = data[\"next_states\"]\n",
    "actions = data[\"actions\"]\n",
    "rewards = data[\"rewards\"]\n",
    "discount = data[\"discount\"]\n",
    "terminals = data[\"terminals\"]\n",
    "tau = 0.001\n",
    "\n",
    "network_config = {\"state_dim\": 8,\n",
    "                  \"num_hidden_units\": 512,\n",
    "                  \"num_actions\": 4\n",
    "                  }\n",
    "\n",
    "network = ActionValueNetwork(network_config)\n",
    "network.set_weights(data[\"network_weights\"])\n",
    "\n",
    "current_q = ActionValueNetwork(network_config)\n",
    "current_q.set_weights(data[\"current_q_weights\"])\n",
    "\n",
    "delta_vec = get_td_error(states, next_states, actions, rewards, discount, terminals, network, current_q, tau)\n",
    "answer_delta_vec = data[\"delta_vec\"]\n",
    "\n",
    "assert(np.allclose(delta_vec, answer_delta_vec))\n",
    "print(\"Passed the asserts! (Note: These are however limited in scope, additional testing is encouraged.)\")"
   ]
  },
  {
   "cell_type": "markdown",
   "metadata": {
    "deletable": false,
    "editable": false,
    "nbgrader": {
     "checksum": "0ea7393d98a54b3f73abf2177a499e83",
     "grade": false,
     "grade_id": "cell28",
     "locked": true,
     "schema_version": 1,
     "solution": false
    }
   },
   "source": [
    "Now that you implemented the `get_td_error()` function, you can use it to implement the `optimize_network()` function. In this function, you will:\n",
    "- get the TD-errors vector from `get_td_error()`,\n",
    "- make the TD-errors into a matrix using zeroes for actions not taken in the transitions,\n",
    "- pass the TD-errors matrix to the `get_TD_update()` function of network to calculate the gradients times TD errors, and,\n",
    "- perform an ADAM optimizer step."
   ]
  },
  {
   "cell_type": "code",
   "execution_count": 12,
   "metadata": {
    "deletable": false,
    "nbgrader": {
     "checksum": "3639865aaba4cd689fcab6a16b877d89",
     "grade": false,
     "grade_id": "cell29",
     "locked": false,
     "schema_version": 1,
     "solution": true
    }
   },
   "outputs": [],
   "source": [
    "### Work Required: Yes. Fill in code in optimize_network (~2 Lines).\n",
    "def optimize_network(experiences, discount, optimizer, network, current_q, tau):\n",
    "    \"\"\"\n",
    "    Args:\n",
    "        experiences (Numpy array): The batch of experiences including the states, actions, \n",
    "                                   rewards, terminals, and next_states.\n",
    "        discount (float): The discount factor.\n",
    "        network (ActionValueNetwork): The latest state of the network that is getting replay updates.\n",
    "        current_q (ActionValueNetwork): The fixed network used for computing the targets, \n",
    "                                        and particularly, the action-values at the next-states.\n",
    "    \"\"\"\n",
    "    \n",
    "    # Get states, action, rewards, terminals, and next_states from experiences\n",
    "    states, actions, rewards, terminals, next_states = map(list, zip(*experiences))\n",
    "    states = np.concatenate(states)\n",
    "    next_states = np.concatenate(next_states)\n",
    "    rewards = np.array(rewards)\n",
    "    terminals = np.array(terminals)\n",
    "    batch_size = states.shape[0]\n",
    "\n",
    "    # Compute TD error using the get_td_error function\n",
    "    # Note that q_vec is a 1D array of shape (batch_size)\n",
    "    delta_vec = get_td_error(states, next_states, actions, rewards, discount, terminals, network, current_q, tau)\n",
    "\n",
    "    # Batch Indices is an array from 0 to the batch_size - 1. \n",
    "    batch_indices = np.arange(batch_size)\n",
    "\n",
    "    # Make a td error matrix of shape (batch_size, num_actions)\n",
    "    # delta_mat has non-zero value only for actions taken\n",
    "    delta_mat = np.zeros((batch_size, network.num_actions))\n",
    "    delta_mat[batch_indices, actions] = delta_vec\n",
    "\n",
    "    # Pass delta_mat to compute the TD errors times the gradients of the network's weights from back-propagation\n",
    "    \n",
    "    ### START CODE HERE\n",
    "    td_update = network.get_TD_update(states,delta_mat)\n",
    "    ### END CODE HERE\n",
    "    \n",
    "    # Pass network.get_weights and the td_update to the optimizer to get updated weights\n",
    "    ### START CODE HERE\n",
    "    weights = optimizer.update_weights(network.get_weights(), td_update)\n",
    "    ### END CODE HERE\n",
    "    \n",
    "    network.set_weights(weights)"
   ]
  },
  {
   "cell_type": "markdown",
   "metadata": {
    "deletable": false,
    "editable": false,
    "nbgrader": {
     "checksum": "3889eb0e75da92c21d961ec401627989",
     "grade": false,
     "grade_id": "cell30",
     "locked": true,
     "schema_version": 1,
     "solution": false
    }
   },
   "source": [
    "Run the following code to test your implementation of the `optimize_network()` function:"
   ]
  },
  {
   "cell_type": "code",
   "execution_count": 13,
   "metadata": {
    "deletable": false,
    "editable": false,
    "nbgrader": {
     "checksum": "6d14b5ad33938d54fdf3795c3d67f98c",
     "grade": true,
     "grade_id": "optimize_network",
     "locked": true,
     "points": 10,
     "schema_version": 1,
     "solution": false
    }
   },
   "outputs": [
    {
     "name": "stdout",
     "output_type": "stream",
     "text": [
      "Passed the asserts! (Note: These are however limited in scope, additional testing is encouraged.)\n"
     ]
    }
   ],
   "source": [
    "# Do not modify this cell!\n",
    "\n",
    "## Test Code for optimize_network() ##\n",
    "\n",
    "# NOTE: The test below is limited in scope. Additional tests are used in the autograder, so it is recommended \n",
    "# to test your implementations more carefully for correctness.\n",
    "\n",
    "input_data = np.load(\"asserts/optimize_network_input_1.npz\", allow_pickle=True)\n",
    "\n",
    "experiences = list(input_data[\"experiences\"])\n",
    "discount = input_data[\"discount\"]\n",
    "tau = 0.001\n",
    "\n",
    "network_config = {\"state_dim\": 8,\n",
    "                  \"num_hidden_units\": 512,\n",
    "                  \"num_actions\": 4\n",
    "                  }\n",
    "\n",
    "network = ActionValueNetwork(network_config)\n",
    "network.set_weights(input_data[\"network_weights\"])\n",
    "\n",
    "current_q = ActionValueNetwork(network_config)\n",
    "current_q.set_weights(input_data[\"current_q_weights\"])\n",
    "\n",
    "optimizer_config = {'step_size': 3e-5, \n",
    "                    'beta_m': 0.9, \n",
    "                    'beta_v': 0.999,\n",
    "                    'epsilon': 1e-8\n",
    "                   }\n",
    "optimizer = Adam(network.layer_sizes, optimizer_config)\n",
    "optimizer.m = input_data[\"optimizer_m\"]\n",
    "optimizer.v = input_data[\"optimizer_v\"]\n",
    "optimizer.beta_m_product = input_data[\"optimizer_beta_m_product\"]\n",
    "optimizer.beta_v_product = input_data[\"optimizer_beta_v_product\"]\n",
    "\n",
    "optimize_network(experiences, discount, optimizer, network, current_q, tau)\n",
    "updated_weights = network.get_weights()\n",
    "\n",
    "output_data = np.load(\"asserts/optimize_network_output_1.npz\", allow_pickle=True)\n",
    "answer_updated_weights = output_data[\"updated_weights\"]\n",
    "\n",
    "assert(np.allclose(updated_weights[0][\"W\"], answer_updated_weights[0][\"W\"]))\n",
    "assert(np.allclose(updated_weights[0][\"b\"], answer_updated_weights[0][\"b\"]))\n",
    "assert(np.allclose(updated_weights[1][\"W\"], answer_updated_weights[1][\"W\"]))\n",
    "assert(np.allclose(updated_weights[1][\"b\"], answer_updated_weights[1][\"b\"]))\n",
    "print(\"Passed the asserts! (Note: These are however limited in scope, additional testing is encouraged.)\")"
   ]
  },
  {
   "cell_type": "markdown",
   "metadata": {
    "deletable": false,
    "editable": false,
    "nbgrader": {
     "checksum": "5b83a775d274b1dc0d9ee3e3945fcef8",
     "grade": false,
     "grade_id": "cell32",
     "locked": true,
     "schema_version": 1,
     "solution": false
    }
   },
   "source": [
    "Now that you implemented the `optimize_network()` function, you can implement the agent. In the cell below, you will fill the `agent_step()` and `agent_end()` functions. You should:\n",
    "- select an action (only in `agent_step()`),\n",
    "- add transitions (consisting of the state, action, reward, terminal, and next state) to the replay buffer, and,\n",
    "- update the weights of the neural network by doing multiple replay steps and calling the `optimize_network()` function that you implemented above."
   ]
  },
  {
   "cell_type": "code",
   "execution_count": 14,
   "metadata": {
    "deletable": false,
    "nbgrader": {
     "checksum": "7da1605d44c8ca965b334815ca9ea065",
     "grade": false,
     "grade_id": "cell33",
     "locked": false,
     "schema_version": 1,
     "solution": true
    }
   },
   "outputs": [],
   "source": [
    "### Work Required: Yes. Fill in code in agent_step and agent_end (~7 Lines).\n",
    "class Agent(BaseAgent):\n",
    "    def __init__(self):\n",
    "        self.name = \"expected_sarsa_agent\"\n",
    "        \n",
    "    # Work Required: No.\n",
    "    def agent_init(self, agent_config):\n",
    "        \"\"\"Setup for the agent called when the experiment first starts.\n",
    "\n",
    "        Set parameters needed to setup the agent.\n",
    "\n",
    "        Assume agent_config dict contains:\n",
    "        {\n",
    "            network_config: dictionary,\n",
    "            optimizer_config: dictionary,\n",
    "            replay_buffer_size: integer,\n",
    "            minibatch_sz: integer, \n",
    "            num_replay_updates_per_step: float\n",
    "            discount_factor: float,\n",
    "        }\n",
    "        \"\"\"\n",
    "        self.replay_buffer = ReplayBuffer(agent_config['replay_buffer_size'], \n",
    "                                          agent_config['minibatch_sz'], agent_config.get(\"seed\"))\n",
    "        self.network = ActionValueNetwork(agent_config['network_config'])\n",
    "        self.optimizer = Adam(self.network.layer_sizes, agent_config[\"optimizer_config\"])\n",
    "        self.num_actions = agent_config['network_config']['num_actions']\n",
    "        self.num_replay = agent_config['num_replay_updates_per_step']\n",
    "        self.discount = agent_config['gamma']\n",
    "        self.tau = agent_config['tau']\n",
    "        \n",
    "        self.rand_generator = np.random.RandomState(agent_config.get(\"seed\"))\n",
    "        \n",
    "        self.last_state = None\n",
    "        self.last_action = None\n",
    "        \n",
    "        self.sum_rewards = 0\n",
    "        self.episode_steps = 0\n",
    "\n",
    "    # Work Required: No.\n",
    "    def policy(self, state):\n",
    "        \"\"\"\n",
    "        Args:\n",
    "            state (Numpy array): the state.\n",
    "        Returns:\n",
    "            the action. \n",
    "        \"\"\"\n",
    "        action_values = self.network.get_action_values(state)\n",
    "        probs_batch = softmax(action_values, self.tau)\n",
    "        action = self.rand_generator.choice(self.num_actions, p=probs_batch.squeeze())\n",
    "        return action\n",
    "\n",
    "    # Work Required: No.\n",
    "    def agent_start(self, state):\n",
    "        \"\"\"The first method called when the experiment starts, called after\n",
    "        the environment starts.\n",
    "        Args:\n",
    "            state (Numpy array): the state from the\n",
    "                environment's evn_start function.\n",
    "        Returns:\n",
    "            The first action the agent takes.\n",
    "        \"\"\"\n",
    "        self.sum_rewards = 0\n",
    "        self.episode_steps = 0\n",
    "        self.last_state = np.array([state])\n",
    "        self.last_action = self.policy(self.last_state)\n",
    "        return self.last_action\n",
    "\n",
    "    # Work Required: Yes. Fill in the action selection, replay-buffer update, \n",
    "    # weights update using optimize_network, and updating last_state and last_action (~5 lines).\n",
    "    def agent_step(self, reward, state):\n",
    "        \"\"\"A step taken by the agent.\n",
    "        Args:\n",
    "            reward (float): the reward received for taking the last action taken\n",
    "            state (Numpy array): the state from the\n",
    "                environment's step based, where the agent ended up after the\n",
    "                last step\n",
    "        Returns:\n",
    "            The action the agent is taking.\n",
    "        \"\"\"\n",
    "        \n",
    "        self.sum_rewards += reward\n",
    "        self.episode_steps += 1\n",
    "\n",
    "        # Make state an array of shape (1, state_dim) to add a batch dimension and\n",
    "        # to later match the get_action_values() and get_TD_update() functions\n",
    "        state = np.array([state])\n",
    "\n",
    "        # Select action\n",
    "        ### START CODE HERE (~1 Line)\n",
    "        action = self.policy(state)\n",
    "        ### END CODE HERE\n",
    "        \n",
    "        # Append new experience to replay buffer\n",
    "        # Note: look at the replay_buffer append function for the order of arguments\n",
    "\n",
    "        ### START CODE HERE (~1 Line)\n",
    "        self.replay_buffer.append(self.last_state, self.last_action, reward, 0, state)\n",
    "        ### END CODE HERE\n",
    "        \n",
    "        # Perform replay steps:\n",
    "        if self.replay_buffer.size() > self.replay_buffer.minibatch_size:\n",
    "            current_q = deepcopy(self.network)\n",
    "            for _ in range(self.num_replay):\n",
    "                \n",
    "                # Get sample experiences from the replay buffer\n",
    "                experiences = self.replay_buffer.sample()\n",
    "                \n",
    "                # Call optimize_network to update the weights of the network (~1 Line)\n",
    "                ### START CODE HERE\n",
    "                optimize_network(experiences, self.discount, self.optimizer, self.network, current_q, self.tau)\n",
    "                ### END CODE HERE\n",
    "                \n",
    "        # Update the last state and last action.\n",
    "        ### START CODE HERE (~2 Lines)\n",
    "        self.last_state = state\n",
    "        self.last_action = action\n",
    "        ### END CODE HERE\n",
    "        \n",
    "        return action\n",
    "\n",
    "    # Work Required: Yes. Fill in the replay-buffer update and\n",
    "    # update of the weights using optimize_network (~2 lines).\n",
    "    def agent_end(self, reward):\n",
    "        \"\"\"Run when the agent terminates.\n",
    "        Args:\n",
    "            reward (float): the reward the agent received for entering the\n",
    "                terminal state.\n",
    "        \"\"\"\n",
    "        self.sum_rewards += reward\n",
    "        self.episode_steps += 1\n",
    "        \n",
    "        # Set terminal state to an array of zeros\n",
    "        state = np.zeros_like(self.last_state)\n",
    "\n",
    "        # Append new experience to replay buffer\n",
    "        # Note: look at the replay_buffer append function for the order of arguments\n",
    "        \n",
    "        ### START CODE HERE (~1 Line)\n",
    "        self.replay_buffer.append(self.last_state, self.last_action, reward, 1, state)\n",
    "        ### END CODE HERE\n",
    "        \n",
    "        # Perform replay steps:\n",
    "        if self.replay_buffer.size() > self.replay_buffer.minibatch_size:\n",
    "            current_q = deepcopy(self.network)\n",
    "            for _ in range(self.num_replay):\n",
    "                \n",
    "                # Get sample experiences from the replay buffer\n",
    "                experiences = self.replay_buffer.sample()\n",
    "                \n",
    "                # Call optimize_network to update the weights of the network\n",
    "                ### START CODE HERE (~1 Line)\n",
    "                optimize_network(experiences, self.discount, self.optimizer, self.network, current_q, self.tau)\n",
    "                ### END CODE HERE\n",
    "                \n",
    "        \n",
    "    def agent_message(self, message):\n",
    "        if message == \"get_sum_reward\":\n",
    "            return self.sum_rewards\n",
    "        else:\n",
    "            raise Exception(\"Unrecognized Message!\")"
   ]
  },
  {
   "cell_type": "markdown",
   "metadata": {
    "deletable": false,
    "editable": false,
    "nbgrader": {
     "checksum": "dab79d391aef354cd1fc454690c534d3",
     "grade": false,
     "grade_id": "cell34",
     "locked": true,
     "schema_version": 1,
     "solution": false
    }
   },
   "source": [
    "Run the following code to test your implementation of the `agent_step()` function:"
   ]
  },
  {
   "cell_type": "code",
   "execution_count": 15,
   "metadata": {
    "deletable": false,
    "editable": false,
    "nbgrader": {
     "checksum": "3c7adb79d3ff2a9c67b5e10b5e37fb2b",
     "grade": true,
     "grade_id": "agent_step",
     "locked": true,
     "points": 10,
     "schema_version": 1,
     "solution": false
    }
   },
   "outputs": [
    {
     "name": "stdout",
     "output_type": "stream",
     "text": [
      "Passed the asserts! (Note: These are however limited in scope, additional testing is encouraged.)\n"
     ]
    }
   ],
   "source": [
    "# Do not modify this cell!\n",
    "\n",
    "## Test Code for agent_step() ## \n",
    "\n",
    "# NOTE: The test below is limited in scope. Additional tests are used in the autograder, so it is recommended \n",
    "# to test your implementations more carefully for correctness.\n",
    "\n",
    "agent_info = {\n",
    "             'network_config': {\n",
    "                 'state_dim': 8,\n",
    "                 'num_hidden_units': 256,\n",
    "                 'num_hidden_layers': 1,\n",
    "                 'num_actions': 4\n",
    "             },\n",
    "             'optimizer_config': {\n",
    "                 'step_size': 3e-5, \n",
    "                 'beta_m': 0.9, \n",
    "                 'beta_v': 0.999,\n",
    "                 'epsilon': 1e-8\n",
    "             },\n",
    "             'replay_buffer_size': 32,\n",
    "             'minibatch_sz': 32,\n",
    "             'num_replay_updates_per_step': 4,\n",
    "             'gamma': 0.99,\n",
    "             'tau': 1000.0,\n",
    "             'seed': 0}\n",
    "\n",
    "# Initialize agent\n",
    "agent = Agent()\n",
    "agent.agent_init(agent_info)\n",
    "\n",
    "# load agent network, optimizer, replay_buffer from the agent_input_1.npz file\n",
    "input_data = np.load(\"asserts/agent_input_1.npz\", allow_pickle=True)\n",
    "agent.network.set_weights(input_data[\"network_weights\"])\n",
    "agent.optimizer.m = input_data[\"optimizer_m\"]\n",
    "agent.optimizer.v = input_data[\"optimizer_v\"]\n",
    "agent.optimizer.beta_m_product = input_data[\"optimizer_beta_m_product\"]\n",
    "agent.optimizer.beta_v_product = input_data[\"optimizer_beta_v_product\"]\n",
    "agent.replay_buffer.rand_generator.seed(int(input_data[\"replay_buffer_seed\"]))\n",
    "for experience in input_data[\"replay_buffer\"]:\n",
    "    agent.replay_buffer.buffer.append(experience)\n",
    "\n",
    "# Perform agent_step multiple times\n",
    "last_state_array = input_data[\"last_state_array\"]\n",
    "last_action_array = input_data[\"last_action_array\"]\n",
    "state_array = input_data[\"state_array\"]\n",
    "reward_array = input_data[\"reward_array\"]\n",
    "\n",
    "for i in range(5):\n",
    "    agent.last_state = last_state_array[i]\n",
    "    agent.last_action = last_action_array[i]\n",
    "    state = state_array[i]\n",
    "    reward = reward_array[i]\n",
    "    \n",
    "    agent.agent_step(reward, state)\n",
    "    \n",
    "    # Load expected values for last_state, last_action, weights, and replay_buffer \n",
    "    output_data = np.load(\"asserts/agent_step_output_{}.npz\".format(i), allow_pickle=True)\n",
    "    answer_last_state = output_data[\"last_state\"]\n",
    "    answer_last_action = output_data[\"last_action\"]\n",
    "    answer_updated_weights = output_data[\"updated_weights\"]\n",
    "    answer_replay_buffer = output_data[\"replay_buffer\"]\n",
    "\n",
    "    # Asserts for last_state and last_action\n",
    "    assert(np.allclose(answer_last_state, agent.last_state))\n",
    "    assert(np.allclose(answer_last_action, agent.last_action))\n",
    "\n",
    "    # Asserts for replay_buffer \n",
    "    for i in range(answer_replay_buffer.shape[0]):\n",
    "        for j in range(answer_replay_buffer.shape[1]):\n",
    "            assert(np.allclose(np.asarray(agent.replay_buffer.buffer)[i, j], answer_replay_buffer[i, j]))\n",
    "\n",
    "    # Asserts for network.weights\n",
    "    assert(np.allclose(agent.network.weights[0][\"W\"], answer_updated_weights[0][\"W\"]))\n",
    "    assert(np.allclose(agent.network.weights[0][\"b\"], answer_updated_weights[0][\"b\"]))\n",
    "    assert(np.allclose(agent.network.weights[1][\"W\"], answer_updated_weights[1][\"W\"]))\n",
    "    assert(np.allclose(agent.network.weights[1][\"b\"], answer_updated_weights[1][\"b\"]))\n",
    "\n",
    "print(\"Passed the asserts! (Note: These are however limited in scope, additional testing is encouraged.)\")\n"
   ]
  },
  {
   "cell_type": "markdown",
   "metadata": {
    "deletable": false,
    "editable": false,
    "nbgrader": {
     "checksum": "31468a23f769e117fd042f1be96c3cff",
     "grade": false,
     "grade_id": "cell36",
     "locked": true,
     "schema_version": 1,
     "solution": false
    }
   },
   "source": [
    "Run the following code to test your implementation of the `agent_end()` function:"
   ]
  },
  {
   "cell_type": "code",
   "execution_count": 16,
   "metadata": {
    "deletable": false,
    "editable": false,
    "nbgrader": {
     "checksum": "3f5a7c7f89b4757354b85a731a8c3764",
     "grade": true,
     "grade_id": "agent_end",
     "locked": true,
     "points": 5,
     "schema_version": 1,
     "solution": false
    }
   },
   "outputs": [
    {
     "name": "stdout",
     "output_type": "stream",
     "text": [
      "Passed the asserts! (Note: These are however limited in scope, additional testing is encouraged.)\n"
     ]
    }
   ],
   "source": [
    "# Do not modify this cell!\n",
    "\n",
    "## Test Code for agent_end() ## \n",
    "\n",
    "# NOTE: The test below is limited in scope. Additional tests are used in the autograder, so it is recommended \n",
    "# to test your implementations more carefully for correctness.\n",
    "\n",
    "agent_info = {\n",
    "             'network_config': {\n",
    "                 'state_dim': 8,\n",
    "                 'num_hidden_units': 256,\n",
    "                 'num_hidden_layers': 1,\n",
    "                 'num_actions': 4\n",
    "             },\n",
    "             'optimizer_config': {\n",
    "                 'step_size': 3e-5, \n",
    "                 'beta_m': 0.9, \n",
    "                 'beta_v': 0.999,\n",
    "                 'epsilon': 1e-8\n",
    "             },\n",
    "             'replay_buffer_size': 32,\n",
    "             'minibatch_sz': 32,\n",
    "             'num_replay_updates_per_step': 4,\n",
    "             'gamma': 0.99,\n",
    "             'tau': 1000,\n",
    "             'seed': 0\n",
    "             }\n",
    "\n",
    "# Initialize agent\n",
    "agent = Agent()\n",
    "agent.agent_init(agent_info)\n",
    "\n",
    "# load agent network, optimizer, replay_buffer from the agent_input_1.npz file\n",
    "input_data = np.load(\"asserts/agent_input_1.npz\", allow_pickle=True)\n",
    "agent.network.set_weights(input_data[\"network_weights\"])\n",
    "agent.optimizer.m = input_data[\"optimizer_m\"]\n",
    "agent.optimizer.v = input_data[\"optimizer_v\"]\n",
    "agent.optimizer.beta_m_product = input_data[\"optimizer_beta_m_product\"]\n",
    "agent.optimizer.beta_v_product = input_data[\"optimizer_beta_v_product\"]\n",
    "agent.replay_buffer.rand_generator.seed(int(input_data[\"replay_buffer_seed\"]))\n",
    "for experience in input_data[\"replay_buffer\"]:\n",
    "    agent.replay_buffer.buffer.append(experience)\n",
    "\n",
    "# Perform agent_step multiple times\n",
    "last_state_array = input_data[\"last_state_array\"]\n",
    "last_action_array = input_data[\"last_action_array\"]\n",
    "state_array = input_data[\"state_array\"]\n",
    "reward_array = input_data[\"reward_array\"]\n",
    "\n",
    "for i in range(5):\n",
    "    agent.last_state = last_state_array[i]\n",
    "    agent.last_action = last_action_array[i]\n",
    "    reward = reward_array[i]\n",
    "    \n",
    "    agent.agent_end(reward)\n",
    "\n",
    "    # Load expected values for last_state, last_action, weights, and replay_buffer \n",
    "    output_data = np.load(\"asserts/agent_end_output_{}.npz\".format(i), allow_pickle=True)\n",
    "    answer_updated_weights = output_data[\"updated_weights\"]\n",
    "    answer_replay_buffer = output_data[\"replay_buffer\"]\n",
    "\n",
    "    # Asserts for replay_buffer \n",
    "    for i in range(answer_replay_buffer.shape[0]):\n",
    "        for j in range(answer_replay_buffer.shape[1]):\n",
    "            assert(np.allclose(np.asarray(agent.replay_buffer.buffer)[i, j], answer_replay_buffer[i, j]))\n",
    "\n",
    "    # Asserts for network.weights\n",
    "    assert(np.allclose(agent.network.weights[0][\"W\"], answer_updated_weights[0][\"W\"]))\n",
    "    assert(np.allclose(agent.network.weights[0][\"b\"], answer_updated_weights[0][\"b\"]))\n",
    "    assert(np.allclose(agent.network.weights[1][\"W\"], answer_updated_weights[1][\"W\"]))\n",
    "    assert(np.allclose(agent.network.weights[1][\"b\"], answer_updated_weights[1][\"b\"]))\n",
    "\n",
    "print(\"Passed the asserts! (Note: These are however limited in scope, additional testing is encouraged.)\")"
   ]
  },
  {
   "cell_type": "markdown",
   "metadata": {
    "deletable": false,
    "editable": false,
    "nbgrader": {
     "checksum": "dcbf680f9de1cca0814b50b4a728c47b",
     "grade": false,
     "grade_id": "cell38",
     "locked": true,
     "schema_version": 1,
     "solution": false
    }
   },
   "source": [
    "## Section 6: Run Experiment\n",
    "\n",
    "Now that you implemented the agent, we can use it to run an experiment on the Lunar Lander problem. We will plot the learning curve of the agent to visualize learning progress. To plot the learning curve, we use the sum of rewards in an episode as the performance measure. We have provided for you the experiment/plot code in the cell below which you can go ahead and run. Note that running the cell below has taken approximately 10 minutes in prior testing."
   ]
  },
  {
   "cell_type": "code",
   "execution_count": 17,
   "metadata": {
    "deletable": false,
    "editable": false,
    "nbgrader": {
     "checksum": "228645061594e9fa701c8efe0081ad8e",
     "grade": false,
     "grade_id": "cell39",
     "locked": true,
     "schema_version": 1,
     "solution": false
    }
   },
   "outputs": [
    {
     "name": "stderr",
     "output_type": "stream",
     "text": [
      "100%|██████████| 300/300 [09:45<00:00,  1.61s/it]\n"
     ]
    }
   ],
   "source": [
    "def run_experiment(environment, agent, environment_parameters, agent_parameters, experiment_parameters):\n",
    "    \n",
    "    rl_glue = RLGlue(environment, agent)\n",
    "        \n",
    "    # save sum of reward at the end of each episode\n",
    "    agent_sum_reward = np.zeros((experiment_parameters[\"num_runs\"], \n",
    "                                 experiment_parameters[\"num_episodes\"]))\n",
    "\n",
    "    env_info = {}\n",
    "\n",
    "    agent_info = agent_parameters\n",
    "\n",
    "    # one agent setting\n",
    "    for run in range(1, experiment_parameters[\"num_runs\"]+1):\n",
    "        agent_info[\"seed\"] = run\n",
    "        agent_info[\"network_config\"][\"seed\"] = run\n",
    "        env_info[\"seed\"] = run\n",
    "\n",
    "        rl_glue.rl_init(agent_info, env_info)\n",
    "        \n",
    "        for episode in tqdm(range(1, experiment_parameters[\"num_episodes\"]+1)):\n",
    "            # run episode\n",
    "            rl_glue.rl_episode(experiment_parameters[\"timeout\"])\n",
    "            \n",
    "            episode_reward = rl_glue.rl_agent_message(\"get_sum_reward\")\n",
    "            agent_sum_reward[run - 1, episode - 1] = episode_reward\n",
    "    save_name = \"{}\".format(rl_glue.agent.name)\n",
    "    if not os.path.exists('results'):\n",
    "        os.makedirs('results')\n",
    "    np.save(\"results/sum_reward_{}\".format(save_name), agent_sum_reward)\n",
    "    shutil.make_archive('results', 'zip', 'results')\n",
    "\n",
    "# Run Experiment\n",
    "\n",
    "# Experiment parameters\n",
    "experiment_parameters = {\n",
    "    \"num_runs\" : 1,\n",
    "    \"num_episodes\" : 300,\n",
    "    # OpenAI Gym environments allow for a timestep limit timeout, causing episodes to end after \n",
    "    # some number of timesteps. Here we use the default of 1000.\n",
    "    \"timeout\" : 1000\n",
    "}\n",
    "\n",
    "# Environment parameters\n",
    "environment_parameters = {}\n",
    "\n",
    "current_env = LunarLanderEnvironment\n",
    "\n",
    "# Agent parameters\n",
    "agent_parameters = {\n",
    "    'network_config': {\n",
    "        'state_dim': 8,\n",
    "        'num_hidden_units': 256,\n",
    "        'num_actions': 4\n",
    "    },\n",
    "    'optimizer_config': {\n",
    "        'step_size': 1e-3,\n",
    "        'beta_m': 0.9, \n",
    "        'beta_v': 0.999,\n",
    "        'epsilon': 1e-8\n",
    "    },\n",
    "    'replay_buffer_size': 50000,\n",
    "    'minibatch_sz': 8,\n",
    "    'num_replay_updates_per_step': 4,\n",
    "    'gamma': 0.99,\n",
    "    'tau': 0.001\n",
    "}\n",
    "current_agent = Agent\n",
    "\n",
    "# run experiment\n",
    "run_experiment(current_env, current_agent, environment_parameters, agent_parameters, experiment_parameters)"
   ]
  },
  {
   "cell_type": "markdown",
   "metadata": {
    "deletable": false,
    "editable": false,
    "nbgrader": {
     "checksum": "5e6d81cab5de679eba86a658acbe9237",
     "grade": false,
     "grade_id": "cell40",
     "locked": true,
     "schema_version": 1,
     "solution": false
    }
   },
   "source": [
    "Run the cell below to see the comparison between the agent that you implemented and a random agent for the one run and 300 episodes. Note that the `plot_result()` function smoothes the learning curve by applying a sliding window on the performance measure. "
   ]
  },
  {
   "cell_type": "code",
   "execution_count": 18,
   "metadata": {
    "deletable": false,
    "editable": false,
    "nbgrader": {
     "checksum": "5390f62315c8303c9e54b45b7e5a8d69",
     "grade": false,
     "grade_id": "cell41",
     "locked": true,
     "schema_version": 1,
     "solution": false
    }
   },
   "outputs": [
    {
     "data": {
      "image/png": "[encoded data removed]",
      "text/plain": [
       "<Figure size 576x432 with 1 Axes>"
      ]
     },
     "metadata": {
      "needs_background": "light"
     },
     "output_type": "display_data"
    }
   ],
   "source": [
    "plot_result([\"expected_sarsa_agent\", \"random_agent\"])"
   ]
  },
  {
   "cell_type": "markdown",
   "metadata": {
    "deletable": false,
    "editable": false,
    "nbgrader": {
     "checksum": "206b2c64f0e560a6dbfc71a9f578a2fb",
     "grade": false,
     "grade_id": "cell42",
     "locked": true,
     "schema_version": 1,
     "solution": false
    }
   },
   "source": [
    "In the following cell you can visualize the performance of the agent with a correct implementation. As you can see, the agent initially crashes quite quickly (Episode 0). Then, the agent learns to avoid crashing by expending fuel and staying far above the ground. Finally however, it learns to land smoothly within the landing zone demarcated by the two flags (Episode 275)."
   ]
  },
  {
   "cell_type": "code",
   "execution_count": 19,
   "metadata": {
    "deletable": false,
    "editable": false,
    "nbgrader": {
     "checksum": "952d4cf4a5f9c52431cba64a007735c7",
     "grade": false,
     "grade_id": "cell43",
     "locked": true,
     "schema_version": 1,
     "solution": false
    }
   },
   "outputs": [
    {
     "data": {
      "text/html": [
       "<div align=\"middle\">\n",
       "<video width=\"80%\" controls>\n",
       "      <source src=\"ImplementYourAgent.mp4\" type=\"video/mp4\">\n",
       "</video></div>\n"
      ],
      "text/plain": [
       "<IPython.core.display.HTML object>"
      ]
     },
     "metadata": {},
     "output_type": "display_data"
    }
   ],
   "source": [
    "%%HTML\n",
    "<div align=\"middle\">\n",
    "<video width=\"80%\" controls>\n",
    "      <source src=\"ImplementYourAgent.mp4\" type=\"video/mp4\">\n",
    "</video></div>"
   ]
  },
  {
   "cell_type": "markdown",
   "metadata": {
    "deletable": false,
    "editable": false,
    "nbgrader": {
     "checksum": "8f628bc12879a6ba295fc81d943861df",
     "grade": false,
     "grade_id": "cell44",
     "locked": true,
     "schema_version": 1,
     "solution": false
    }
   },
   "source": [
    "In the learning curve above, you can see that sum of reward over episode has quite a high-variance at the beginning. However, the performance seems to be improving. The experiment that you ran was for 300 episodes and 1 run. To understand how the agent performs in the long run, we provide below the learning curve for the agent trained for 3000 episodes with performance averaged over 30 runs.\n",
    "<img src=\"3000_episodes.png\" alt=\"Drawing\" style=\"width: 500px;\"/>\n",
    "You can see that the agent learns a reasonably good policy within 3000 episodes, gaining sum of reward bigger than 200. Note that because of the high-variance in the agent performance, we also smoothed the learning curve. "
   ]
  },
  {
   "cell_type": "markdown",
   "metadata": {
    "deletable": false,
    "editable": false,
    "nbgrader": {
     "checksum": "f9aa77980600f6eaa6b04bdf163b726f",
     "grade": false,
     "grade_id": "cell45",
     "locked": true,
     "schema_version": 1,
     "solution": false
    }
   },
   "source": [
    "### Wrapping up! \n",
    "\n",
    "You have successfully implemented Course 4 Programming Assignment 2.\n",
    "\n",
    "You have implemented an **Expected Sarsa agent with a neural network and the Adam optimizer** and used it for solving the Lunar Lander problem! You implemented different components of the agent including:\n",
    "\n",
    "- a neural network for function approximation,\n",
    "- the Adam algorithm for optimizing the weights of the neural network,\n",
    "- a Softmax policy,\n",
    "- the replay steps for updating the action-value function using the experiences sampled from a replay buffer\n",
    "\n",
    "You tested the agent for a single parameter setting. In the next assignment, you will perform a parameter study on the step-size parameter to gain insight about the effect of step-size on the performance of your agent."
   ]
  },
  {
   "cell_type": "markdown",
   "metadata": {
    "deletable": false,
    "editable": false,
    "nbgrader": {
     "checksum": "fefec5bec50493fb9b92455d57e06f3e",
     "grade": false,
     "grade_id": "cell46",
     "locked": true,
     "schema_version": 1,
     "solution": false
    }
   },
   "source": [
    "Note: Apart from using the `Submit` button in the notebook, you have to submit an additional zip file containing the 'npy' files that were generated from running the experiment cells. In order to do so:\n",
    "1. Generate the zip file by running the experiment cells in the notebook. On the top of the notebook, navigate to `File->Open` to open the directory view of this assignment. Select the checkbox next to `results.zip` and click on `Download.` Alternatively, you can download the results folder and run `zip -jr results.zip results/` (The flag 'j' is required by the grader!).\n",
    "2. Go to the \"My submission\" tab on the programming assignment and click on \"+ Create submission\".\n",
    "3. Click on \"PA2 Data-file Grader\" and upload your results.zip.\n",
    "\n",
    "***These account for 25% of the marks, so don't forget to do so!***"
   ]
  },
  {
   "cell_type": "code",
   "execution_count": null,
   "metadata": {},
   "outputs": [],
   "source": []
  }
 ],
 "metadata": {
  "coursera": {
   "course_slug": "complete-reinforcement-learning-system",
   "graded_item_id": "8dMlx",
   "launcher_item_id": "4O5gG"
  },
  "kernelspec": {
   "display_name": "Python 3",
   "language": "python",
   "name": "python3"
  },
  "language_info": {
   "codemirror_mode": {
    "name": "ipython",
    "version": 3
   },
   "file_extension": ".py",
   "mimetype": "text/x-python",
   "name": "python",
   "nbconvert_exporter": "python",
   "pygments_lexer": "ipython3",
   "version": "3.7.3"
  }
 },
 "nbformat": 4,
 "nbformat_minor": 2
}
